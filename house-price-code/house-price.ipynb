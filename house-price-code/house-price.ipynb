{
 "cells": [
  {
   "cell_type": "code",
   "execution_count": 3,
   "id": "bb0d8f53-5e08-455c-89c4-9dd7016af251",
   "metadata": {},
   "outputs": [
    {
     "name": "stdout",
     "output_type": "stream",
     "text": [
      "Using matplotlib backend: <object object at 0x7fd81757b340>\n"
     ]
    }
   ],
   "source": [
    "%matplotlib\n",
    "import pandas as pd\n",
    "import numpy as np\n",
    "import torch\n",
    "from torch import nn"
   ]
  },
  {
   "cell_type": "code",
   "execution_count": 5,
   "id": "007206b7-b6af-485b-b2ca-ffd9af0e08d9",
   "metadata": {},
   "outputs": [
    {
     "name": "stdout",
     "output_type": "stream",
     "text": [
      "        Id  MSSubClass MSZoning  LotFrontage  LotArea Street Alley LotShape  \\\n",
      "0        1          60       RL         65.0     8450   Pave   NaN      Reg   \n",
      "1        2          20       RL         80.0     9600   Pave   NaN      Reg   \n",
      "2        3          60       RL         68.0    11250   Pave   NaN      IR1   \n",
      "3        4          70       RL         60.0     9550   Pave   NaN      IR1   \n",
      "4        5          60       RL         84.0    14260   Pave   NaN      IR1   \n",
      "...    ...         ...      ...          ...      ...    ...   ...      ...   \n",
      "1455  1456          60       RL         62.0     7917   Pave   NaN      Reg   \n",
      "1456  1457          20       RL         85.0    13175   Pave   NaN      Reg   \n",
      "1457  1458          70       RL         66.0     9042   Pave   NaN      Reg   \n",
      "1458  1459          20       RL         68.0     9717   Pave   NaN      Reg   \n",
      "1459  1460          20       RL         75.0     9937   Pave   NaN      Reg   \n",
      "\n",
      "     LandContour Utilities  ... PoolArea PoolQC  Fence MiscFeature MiscVal  \\\n",
      "0            Lvl    AllPub  ...        0    NaN    NaN         NaN       0   \n",
      "1            Lvl    AllPub  ...        0    NaN    NaN         NaN       0   \n",
      "2            Lvl    AllPub  ...        0    NaN    NaN         NaN       0   \n",
      "3            Lvl    AllPub  ...        0    NaN    NaN         NaN       0   \n",
      "4            Lvl    AllPub  ...        0    NaN    NaN         NaN       0   \n",
      "...          ...       ...  ...      ...    ...    ...         ...     ...   \n",
      "1455         Lvl    AllPub  ...        0    NaN    NaN         NaN       0   \n",
      "1456         Lvl    AllPub  ...        0    NaN  MnPrv         NaN       0   \n",
      "1457         Lvl    AllPub  ...        0    NaN  GdPrv        Shed    2500   \n",
      "1458         Lvl    AllPub  ...        0    NaN    NaN         NaN       0   \n",
      "1459         Lvl    AllPub  ...        0    NaN    NaN         NaN       0   \n",
      "\n",
      "     MoSold YrSold  SaleType  SaleCondition  SalePrice  \n",
      "0         2   2008        WD         Normal     208500  \n",
      "1         5   2007        WD         Normal     181500  \n",
      "2         9   2008        WD         Normal     223500  \n",
      "3         2   2006        WD        Abnorml     140000  \n",
      "4        12   2008        WD         Normal     250000  \n",
      "...     ...    ...       ...            ...        ...  \n",
      "1455      8   2007        WD         Normal     175000  \n",
      "1456      2   2010        WD         Normal     210000  \n",
      "1457      5   2010        WD         Normal     266500  \n",
      "1458      4   2010        WD         Normal     142125  \n",
      "1459      6   2008        WD         Normal     147500  \n",
      "\n",
      "[1460 rows x 81 columns]\n",
      "        Id  MSSubClass MSZoning  LotFrontage  LotArea Street Alley LotShape  \\\n",
      "0     1461          20       RH         80.0    11622   Pave   NaN      Reg   \n",
      "1     1462          20       RL         81.0    14267   Pave   NaN      IR1   \n",
      "2     1463          60       RL         74.0    13830   Pave   NaN      IR1   \n",
      "3     1464          60       RL         78.0     9978   Pave   NaN      IR1   \n",
      "4     1465         120       RL         43.0     5005   Pave   NaN      IR1   \n",
      "...    ...         ...      ...          ...      ...    ...   ...      ...   \n",
      "1454  2915         160       RM         21.0     1936   Pave   NaN      Reg   \n",
      "1455  2916         160       RM         21.0     1894   Pave   NaN      Reg   \n",
      "1456  2917          20       RL        160.0    20000   Pave   NaN      Reg   \n",
      "1457  2918          85       RL         62.0    10441   Pave   NaN      Reg   \n",
      "1458  2919          60       RL         74.0     9627   Pave   NaN      Reg   \n",
      "\n",
      "     LandContour Utilities  ... ScreenPorch PoolArea PoolQC  Fence  \\\n",
      "0            Lvl    AllPub  ...         120        0    NaN  MnPrv   \n",
      "1            Lvl    AllPub  ...           0        0    NaN    NaN   \n",
      "2            Lvl    AllPub  ...           0        0    NaN  MnPrv   \n",
      "3            Lvl    AllPub  ...           0        0    NaN    NaN   \n",
      "4            HLS    AllPub  ...         144        0    NaN    NaN   \n",
      "...          ...       ...  ...         ...      ...    ...    ...   \n",
      "1454         Lvl    AllPub  ...           0        0    NaN    NaN   \n",
      "1455         Lvl    AllPub  ...           0        0    NaN    NaN   \n",
      "1456         Lvl    AllPub  ...           0        0    NaN    NaN   \n",
      "1457         Lvl    AllPub  ...           0        0    NaN  MnPrv   \n",
      "1458         Lvl    AllPub  ...           0        0    NaN    NaN   \n",
      "\n",
      "     MiscFeature MiscVal MoSold  YrSold  SaleType  SaleCondition  \n",
      "0            NaN       0      6    2010        WD         Normal  \n",
      "1           Gar2   12500      6    2010        WD         Normal  \n",
      "2            NaN       0      3    2010        WD         Normal  \n",
      "3            NaN       0      6    2010        WD         Normal  \n",
      "4            NaN       0      1    2010        WD         Normal  \n",
      "...          ...     ...    ...     ...       ...            ...  \n",
      "1454         NaN       0      6    2006        WD         Normal  \n",
      "1455         NaN       0      4    2006        WD        Abnorml  \n",
      "1456         NaN       0      9    2006        WD        Abnorml  \n",
      "1457        Shed     700      7    2006        WD         Normal  \n",
      "1458         NaN       0     11    2006        WD         Normal  \n",
      "\n",
      "[1459 rows x 80 columns]\n"
     ]
    }
   ],
   "source": [
    "train_data = pd.read_csv('../house-prices/train.csv')\n",
    "test_data = pd.read_csv('../house-prices/test.csv')\n",
    "print(train_data)\n",
    "print(test_data)"
   ]
  },
  {
   "cell_type": "code",
   "execution_count": 9,
   "id": "46e25950-08c5-4bf9-96a9-71dcea93bb8e",
   "metadata": {},
   "outputs": [
    {
     "name": "stdout",
     "output_type": "stream",
     "text": [
      "   Id  MSSubClass MSZoning  LotFrontage SaleType SaleCondition  SalePrice\n",
      "0   1          60       RL         65.0       WD        Normal     208500\n",
      "1   2          20       RL         80.0       WD        Normal     181500\n",
      "2   3          60       RL         68.0       WD        Normal     223500\n",
      "3   4          70       RL         60.0       WD       Abnorml     140000\n"
     ]
    }
   ],
   "source": [
    "print(train_data.iloc[0:4, [0,1,2,3,-3,-2,-1]])"
   ]
  },
  {
   "cell_type": "code",
   "execution_count": 19,
   "id": "a12e408b-866f-44bc-9520-fa8565b24dac",
   "metadata": {},
   "outputs": [
    {
     "name": "stdout",
     "output_type": "stream",
     "text": [
      "      MSSubClass MSZoning  LotFrontage  LotArea Street Alley LotShape  \\\n",
      "0             60       RL         65.0     8450   Pave   NaN      Reg   \n",
      "1             20       RL         80.0     9600   Pave   NaN      Reg   \n",
      "2             60       RL         68.0    11250   Pave   NaN      IR1   \n",
      "3             70       RL         60.0     9550   Pave   NaN      IR1   \n",
      "4             60       RL         84.0    14260   Pave   NaN      IR1   \n",
      "...          ...      ...          ...      ...    ...   ...      ...   \n",
      "1454         160       RM         21.0     1936   Pave   NaN      Reg   \n",
      "1455         160       RM         21.0     1894   Pave   NaN      Reg   \n",
      "1456          20       RL        160.0    20000   Pave   NaN      Reg   \n",
      "1457          85       RL         62.0    10441   Pave   NaN      Reg   \n",
      "1458          60       RL         74.0     9627   Pave   NaN      Reg   \n",
      "\n",
      "     LandContour Utilities LotConfig  ... ScreenPorch PoolArea PoolQC  Fence  \\\n",
      "0            Lvl    AllPub    Inside  ...           0        0    NaN    NaN   \n",
      "1            Lvl    AllPub       FR2  ...           0        0    NaN    NaN   \n",
      "2            Lvl    AllPub    Inside  ...           0        0    NaN    NaN   \n",
      "3            Lvl    AllPub    Corner  ...           0        0    NaN    NaN   \n",
      "4            Lvl    AllPub       FR2  ...           0        0    NaN    NaN   \n",
      "...          ...       ...       ...  ...         ...      ...    ...    ...   \n",
      "1454         Lvl    AllPub    Inside  ...           0        0    NaN    NaN   \n",
      "1455         Lvl    AllPub    Inside  ...           0        0    NaN    NaN   \n",
      "1456         Lvl    AllPub    Inside  ...           0        0    NaN    NaN   \n",
      "1457         Lvl    AllPub    Inside  ...           0        0    NaN  MnPrv   \n",
      "1458         Lvl    AllPub    Inside  ...           0        0    NaN    NaN   \n",
      "\n",
      "     MiscFeature MiscVal  MoSold  YrSold  SaleType  SaleCondition  \n",
      "0            NaN       0       2    2008        WD         Normal  \n",
      "1            NaN       0       5    2007        WD         Normal  \n",
      "2            NaN       0       9    2008        WD         Normal  \n",
      "3            NaN       0       2    2006        WD        Abnorml  \n",
      "4            NaN       0      12    2008        WD         Normal  \n",
      "...          ...     ...     ...     ...       ...            ...  \n",
      "1454         NaN       0       6    2006        WD         Normal  \n",
      "1455         NaN       0       4    2006        WD        Abnorml  \n",
      "1456         NaN       0       9    2006        WD        Abnorml  \n",
      "1457        Shed     700       7    2006        WD         Normal  \n",
      "1458         NaN       0      11    2006        WD         Normal  \n",
      "\n",
      "[2919 rows x 79 columns]\n"
     ]
    }
   ],
   "source": [
    "all_features = pd.concat([train_data.iloc[:,1:-1],test_data.iloc[:,1:]])\n",
    "print(all_features)"
   ]
  },
  {
   "cell_type": "code",
   "execution_count": 20,
   "id": "32069b73-12dd-4c7b-bfd9-40374ae178d8",
   "metadata": {},
   "outputs": [
    {
     "name": "stdout",
     "output_type": "stream",
     "text": [
      "      MSSubClass MSZoning  LotFrontage   LotArea Street Alley LotShape  \\\n",
      "0       0.067320       RL    -0.184443 -0.217841   Pave   NaN      Reg   \n",
      "1      -0.873466       RL     0.458096 -0.072032   Pave   NaN      Reg   \n",
      "2       0.067320       RL    -0.055935  0.137173   Pave   NaN      IR1   \n",
      "3       0.302516       RL    -0.398622 -0.078371   Pave   NaN      IR1   \n",
      "4       0.067320       RL     0.629439  0.518814   Pave   NaN      IR1   \n",
      "...          ...      ...          ...       ...    ...   ...      ...   \n",
      "1454    2.419286       RM    -2.069222 -1.043758   Pave   NaN      Reg   \n",
      "1455    2.419286       RM    -2.069222 -1.049083   Pave   NaN      Reg   \n",
      "1456   -0.873466       RL     3.884968  1.246594   Pave   NaN      Reg   \n",
      "1457    0.655311       RL    -0.312950  0.034599   Pave   NaN      Reg   \n",
      "1458    0.067320       RL     0.201080 -0.068608   Pave   NaN      Reg   \n",
      "\n",
      "     LandContour Utilities LotConfig  ... ScreenPorch  PoolArea PoolQC  Fence  \\\n",
      "0            Lvl    AllPub    Inside  ...   -0.285886 -0.063139    NaN    NaN   \n",
      "1            Lvl    AllPub       FR2  ...   -0.285886 -0.063139    NaN    NaN   \n",
      "2            Lvl    AllPub    Inside  ...   -0.285886 -0.063139    NaN    NaN   \n",
      "3            Lvl    AllPub    Corner  ...   -0.285886 -0.063139    NaN    NaN   \n",
      "4            Lvl    AllPub       FR2  ...   -0.285886 -0.063139    NaN    NaN   \n",
      "...          ...       ...       ...  ...         ...       ...    ...    ...   \n",
      "1454         Lvl    AllPub    Inside  ...   -0.285886 -0.063139    NaN    NaN   \n",
      "1455         Lvl    AllPub    Inside  ...   -0.285886 -0.063139    NaN    NaN   \n",
      "1456         Lvl    AllPub    Inside  ...   -0.285886 -0.063139    NaN    NaN   \n",
      "1457         Lvl    AllPub    Inside  ...   -0.285886 -0.063139    NaN  MnPrv   \n",
      "1458         Lvl    AllPub    Inside  ...   -0.285886 -0.063139    NaN    NaN   \n",
      "\n",
      "     MiscFeature   MiscVal    MoSold    YrSold  SaleType  SaleCondition  \n",
      "0            NaN -0.089577 -1.551918  0.157619        WD         Normal  \n",
      "1            NaN -0.089577 -0.446848 -0.602858        WD         Normal  \n",
      "2            NaN -0.089577  1.026577  0.157619        WD         Normal  \n",
      "3            NaN -0.089577 -1.551918 -1.363335        WD        Abnorml  \n",
      "4            NaN -0.089577  2.131647  0.157619        WD         Normal  \n",
      "...          ...       ...       ...       ...       ...            ...  \n",
      "1454         NaN -0.089577 -0.078492 -1.363335        WD         Normal  \n",
      "1455         NaN -0.089577 -0.815205 -1.363335        WD        Abnorml  \n",
      "1456         NaN -0.089577  1.026577 -1.363335        WD        Abnorml  \n",
      "1457        Shed  1.144116  0.289865 -1.363335        WD         Normal  \n",
      "1458         NaN -0.089577  1.763290 -1.363335        WD         Normal  \n",
      "\n",
      "[2919 rows x 79 columns]\n"
     ]
    }
   ],
   "source": [
    "numeric_features = all_features.dtypes[all_features.dtypes != 'object'].index\n",
    "all_features[numeric_features] = all_features[numeric_features].apply(\n",
    "    lambda x : (x - x.mean()) / (x.std()))\n",
    "all_features[numeric_features] = all_features[numeric_features].fillna(0)\n",
    "print(all_features) "
   ]
  },
  {
   "cell_type": "code",
   "execution_count": 27,
   "id": "28e7bcc2-0d5c-430d-8f53-69bb9e39dcd7",
   "metadata": {},
   "outputs": [
    {
     "data": {
      "text/plain": [
       "array([[0.06731987999872384, -0.1844426168571562, -0.21784136849269334,\n",
       "        ..., True, False, False],\n",
       "       [-0.8734663783676423, 0.4580958808711674, -0.07203174114674873,\n",
       "        ..., True, False, False],\n",
       "       [0.06731987999872384, -0.05593491731149148, 0.13717337634960655,\n",
       "        ..., True, False, False],\n",
       "       ...,\n",
       "       [-0.8734663783676423, 3.8849678687555604, 1.2465944539817937, ...,\n",
       "        False, False, False],\n",
       "       [0.6553112914777027, -0.31295031640282095, 0.034599473286242056,\n",
       "        ..., True, False, False],\n",
       "       [0.06731987999872384, 0.20108048177983798, -0.06860838467862655,\n",
       "        ..., True, False, False]], dtype=object)"
      ]
     },
     "execution_count": 27,
     "metadata": {},
     "output_type": "execute_result"
    }
   ],
   "source": [
    "all_features = pd.get_dummies(all_features, dummy_na=True)\n",
    "all_features.values"
   ]
  },
  {
   "cell_type": "code",
   "execution_count": 39,
   "id": "a7a4d3c0-28d7-4250-9db4-9340c2ab0d77",
   "metadata": {},
   "outputs": [],
   "source": [
    "n_train = train_data.shape[0]\n",
    "train_features = torch.tensor(all_features[:n_train].values.astype(float), dtype=torch.float32)\n",
    "test_features = torch.tensor(all_features[n_train:].values.astype(float), dtype=torch.float32)\n",
    "train_lables = torch.tensor(train_data.SalePrice.values.reshape(-1, 1), dtype=torch.float32)"
   ]
  },
  {
   "cell_type": "code",
   "execution_count": 41,
   "id": "381d4bec-d764-4954-900c-fda9329ffcd3",
   "metadata": {},
   "outputs": [
    {
     "data": {
      "text/plain": [
       "tensor([[ 0.0673, -0.1844, -0.2178,  ...,  1.0000,  0.0000,  0.0000],\n",
       "        [-0.8735,  0.4581, -0.0720,  ...,  1.0000,  0.0000,  0.0000],\n",
       "        [ 0.0673, -0.0559,  0.1372,  ...,  1.0000,  0.0000,  0.0000],\n",
       "        ...,\n",
       "        [ 0.3025, -0.1416, -0.1428,  ...,  1.0000,  0.0000,  0.0000],\n",
       "        [-0.8735, -0.0559, -0.0572,  ...,  1.0000,  0.0000,  0.0000],\n",
       "        [-0.8735,  0.2439, -0.0293,  ...,  1.0000,  0.0000,  0.0000]])"
      ]
     },
     "execution_count": 41,
     "metadata": {},
     "output_type": "execute_result"
    }
   ],
   "source": [
    "train_features"
   ]
  },
  {
   "cell_type": "code",
   "execution_count": null,
   "id": "63f8a78d-d1ef-49d7-b0a0-f21fbf3a5b6d",
   "metadata": {},
   "outputs": [],
   "source": [
    "loss = nn.MSELoss()\n",
    "in_features = train_features.shape[1]\n",
    "\n",
    "def get_net():\n",
    "    net = nn.Sequential(nn.Linear(in_features, 1))\n",
    "    return net\n",
    "\n",
    "def log_rmse(net, features, labels):\n",
    "    "
   ]
  }
 ],
 "metadata": {
  "kernelspec": {
   "display_name": "Python 3 (ipykernel)",
   "language": "python",
   "name": "python3"
  },
  "language_info": {
   "codemirror_mode": {
    "name": "ipython",
    "version": 3
   },
   "file_extension": ".py",
   "mimetype": "text/x-python",
   "name": "python",
   "nbconvert_exporter": "python",
   "pygments_lexer": "ipython3",
   "version": "3.10.12"
  }
 },
 "nbformat": 4,
 "nbformat_minor": 5
}
